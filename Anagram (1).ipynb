{
 "cells": [
  {
   "cell_type": "code",
   "execution_count": 8,
   "metadata": {},
   "outputs": [
    {
     "name": "stdout",
     "output_type": "stream",
     "text": [
      "True\n"
     ]
    }
   ],
   "source": [
    "def is_anagram1 (string1, string2):\n",
    "    return sorted(string1) == sorted(string2)\n",
    "print(is_anagram1(\"arm\", \"ram\"))\n",
    "#([assignment](\"I4G02774563Y\"))\n",
    "\n",
    "def is_anagram2(str1, str2):\n",
    "    list1 = list(str1)\n",
    "    list2 = list(str2)\n",
    "    list1.sort()\n",
    "    list2.sort()\n",
    "    return (list1 == list2)\n",
    "\n",
    "#print(is_anagram2(\"arm\", \"ram\"))\n",
    "#([assignment](\"I4G02774563Y\"))\n",
    "\n",
    "from collections import Counter\n",
    "def is_anagram3(string1, string2):\n",
    "    c1 = Counter(string1)\n",
    "    c2 = Counter(string2)\n",
    "    return c1 == c2\n",
    "\n",
    "#print(is_anagram3(\"arm\", \"ram\"))\n",
    "#([assignment](\"I4G02774563Y\"))"
   ]
  },
  {
   "cell_type": "code",
   "execution_count": null,
   "metadata": {},
   "outputs": [],
   "source": []
  },
  {
   "cell_type": "code",
   "execution_count": null,
   "metadata": {},
   "outputs": [],
   "source": []
  }
 ],
 "metadata": {
  "kernelspec": {
   "display_name": "Python 3",
   "language": "python",
   "name": "python3"
  },
  "language_info": {
   "codemirror_mode": {
    "name": "ipython",
    "version": 3
   },
   "file_extension": ".py",
   "mimetype": "text/x-python",
   "name": "python",
   "nbconvert_exporter": "python",
   "pygments_lexer": "ipython3",
   "version": "3.7.0"
  }
 },
 "nbformat": 4,
 "nbformat_minor": 2
}
